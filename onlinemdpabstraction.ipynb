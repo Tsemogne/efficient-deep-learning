{
  "cells": [
    {
      "cell_type": "markdown",
      "metadata": {
        "id": "view-in-github",
        "colab_type": "text"
      },
      "source": [
        "<a href=\"https://colab.research.google.com/github/Tsemogne/efficient-deep-learning/blob/master/onlinemdpabstraction.ipynb\" target=\"_parent\"><img src=\"https://colab.research.google.com/assets/colab-badge.svg\" alt=\"Open In Colab\"/></a>"
      ]
    },
    {
      "cell_type": "markdown",
      "metadata": {
        "id": "_AOqiXVRi_oP"
      },
      "source": [
        "# **ONLINE ABSTRACTION OF AN ATTACK BY A SWAM OF DRONES**\n",
        "\n",
        "## Aswam of drones should destroy a target that can detect and destroy them and we want to optimize for a large number of drones as if the number is not large.\n",
        "\n",
        "We assume that each each drone occupies a position $\\mathbf{x} = \\left(x_1, x_2\\right)$, that a drone is destroyed once it is detected by the target, and that the target is destroyed once any drone is sufficiently close to it."
      ]
    },
    {
      "cell_type": "code",
      "execution_count": null,
      "metadata": {
        "id": "6LRHKH8oi_oR"
      },
      "outputs": [],
      "source": [
        "# If in the cloud, please uncomment the line below and run this cell\n",
        "# ! pip install -U https://github.com/PythonOT/POT/archive/master.zip"
      ]
    },
    {
      "cell_type": "markdown",
      "metadata": {
        "id": "DSkhUHkYi_oS"
      },
      "source": [
        "# 1. **THE GROUND PROBLEM**\n",
        "\n",
        "The problem is the ground MDP \n",
        "$M = \\left(\n",
        "    \\mathcal{S},\n",
        "    \\mathcal{A},\n",
        "    \\mathbf{T},\n",
        "    \\mathbf{R}\n",
        "\\right)$\n",
        "where:\n",
        "\n",
        "## 1.1. **The States and the Actions**\n",
        "\n",
        "The state of each vehicule $v$ consists in 5 components: the positional components $s_{v,1}=x_1$ and $x_{v,2}=x_2$, the velocity components $s_{v,3}=\\text{\\small speed}_1$ and $x_{v,4}=\\text{\\footnotesize speed}_2$, and an internal component $s_{v,0} \\in \\left\\{0,1\\right\\}$, $1$ for alive and $1$ for destroyed.\n",
        "This state is therefore represented by a vector $s_{v} \\in \\left\\{0,1\\right\\}\\times\\mathbb{R}^4$.\n",
        "For the sake of ***discretization***, we assume that the set $\\mathbb{R}^2$ of vehicule positions is partitionned in squares \n",
        "$$\n",
        "    \\text{Place}_{p_1,p_2} = \n",
        "    \\left[x_{1,p_1}, x_{1,p_1}+\\text{\\footnotesize PlaceSkip}\\right)\n",
        "    \\times\n",
        "    \\left[x_{2,p_2}, x_{2,p_2}+\\text{\\footnotesize PlaceSkip}\\right),\n",
        "$$\n",
        "where $\\mathcal{P}=\\left\\{p_\\text{min},\\ldots,p_\\text{max}\\right\\}\\subseteq\\mathbb{N}$,\n",
        "$p_1$ and $p_2 \\in \\mathcal{P}$, and $\\text{\\footnotesize MinSkip} \\in \\mathbb{R}$, with \n",
        "$x_{i,p+1} = x_{i,p} + \\text{\\footnotesize PlaceSkip}$\n",
        "for all $i=1,2$.\n",
        "So the position of a vehicule will always be bottom left corner of the square in which it is.\n",
        "\n",
        "For the same sake of discretization, the velocity of a vehicule is any vector $\\left(\\eta_1 \\times \\text{\\footnotesize PlaceSkip},\\eta_2 \\times \\text{\\footnotesize PlaceSkip}\\right)$,\n",
        "where $\\eta_1,\\eta_2 \\in \\left\\{-\\Eta, \\ldots, 0, \\ldots, \\Eta\\right\\}$ satisfy some condition\n",
        "$\\begin{equation}\n",
        "    \\sqrt{\\eta_1^2 + \\eta_2^2} \\leqslant \\eta_\\text{max}\n",
        "\\end{equation}$\n",
        "of boundedness, and $\\Eta\\in\\mathbb{N}^*$\n",
        "and $\\eta_\\text{max} \\leqslant \\Eta$\n",
        "are constant.\n",
        "\n",
        "Finally, we assume that the state of a vehicule $v$ can be instead represented by a 5-tuple\n",
        "$$\n",
        "    s_v = \\left(\n",
        "        s_{v,0}, p_{v,1}, p_{v,2}, \\eta_{v,1}, \\eta_{v,2}\n",
        "    \\right).\n",
        "$$\n",
        "\n",
        "The state of the system is any sequence $s = \\left(s_v\\right)_{v=0}^{V-1}$ where $s_{v}$ is the state of vehicule $v$ and $V$ is the number of vehicules, or a $V \\times 4$ matrix of which each line stands for the state of a vehicule, the first two columns represent the positions of the vehicules and the last two columns represent their velocities.\n",
        "$$\n",
        "    s = \\left(\\begin{array}{ccccc}\n",
        "        s_{0,0} & p_{0,1} & p_{0,2} & \\eta_{0,1} & \\eta_{0,2} \\\\\n",
        "        \\vdots & \\vdots & \\vdots & \\vdots & \\vdots\\\\\n",
        "        s_{v,0} & p_{v,1} & p_{v,2} & \\eta_{v,1} & \\eta_{v,2}  \\\\\n",
        "        \\vdots & \\vdots & \\vdots & \\vdots & \\vdots\\\\\n",
        "        s_{V-1,0} & p_{V-1,1} & p_{V-1,2} & \\eta_{V-1,1} & \\eta_{V-1,2} \n",
        "    \\end{array}\\right).\n",
        "$$\n",
        "\n",
        "An action on a single vehicule $v$ consists in an attemp to increase or decrease the velocity of $v$. The variation can be represented as a vector of limited norm and the component on each axis should be a multiple of $\\text{\\small PlaceSkip}$.\n",
        "So, the set of actions on a single vehicule is\n",
        "$$\\text{\\small BasicAction} = \\left\\{\n",
        "    \\left(\\text{\\small Pulse}_1,\\text{\\small Pulse}_2\\right) \\in \\mathbb{Z}^2\n",
        "    \\,\\middle|\\,\n",
        "    \\sqrt{\\text{\\small Pulse}_1^2 + \\text{\\small Pulse}_2^2} \\leqslant \\text{\\small MaximumPulse}\n",
        "\\right\\},$$\n",
        "Where $\\text{\\small MaximumPulse}$ is a constant integer.\n",
        "The attempt is successfull provided it does not make the velocity exceed its limit value, i.e.,\n",
        "$\n",
        "    \\sqrt{\\eta_1^2 + \\eta_2^2} \\leqslant \\eta_\\text{max}.\n",
        "$\n",
        "An action is any $V\\times3$ matrix where each line is a basic action, i.e., the action on the corresponding vehicule."
      ]
    },
    {
      "cell_type": "code",
      "execution_count": null,
      "metadata": {
        "id": "IO5IFRn7i_oS"
      },
      "outputs": [],
      "source": [
        "import torch\n",
        "import math\n",
        "global Number_Vehicules, State, PlaceSkip, CoordinateMin, CoordinateMax, PossiblePlace, MaximumShift, MaximumPulse, \\\n",
        "    BasicAction, VehiculesSecurityDistance\n",
        "\n",
        "def Initialize():\n",
        "    global Number_Vehicules, State, PlaceSkip, CoordinateMin, CoordinateMax, PossiblePlace, MaximumShift, MaximumPulse, \\\n",
        "        BasicAction, VehiculesSecurityDistance\n",
        "    print(\"\\n\\n\\nSIMULATING ATTACK BY DRONES SWAM\\n\\n\")\n",
        "    3\n",
        "    Method = int(input(\"Set parameters to default values ? (0/1)\"))\n",
        "    if Method == 0:\n",
        "        Number_Vehicules = int(  input(\"Number of vehicules in the swam:       \"))\n",
        "        print(\"\\nAssume sufficiently closed vehicules will clash against each other\")\n",
        "        VehiculesSecurityDistance = float(input(\"Security distance of vehicules:    \"))\n",
        "        print(\"\\nPlease border the area as: COORDINATEmin < X < COORDINATEmax, COORDINATEmin < Y < COORDINATEmax\")\n",
        "        CoordinateMin    = float(input(\"                   COORDINATEmin:  \"))\n",
        "        CoordinateMax    = float(input(\"                   COORDINATEmax:  \"))\n",
        "        Number_Divisions = int(  input(\"Number of divisions on each axis:  \"))\n",
        "        MaximumShift     = int(input(\"Maximum velocity of a vehicule (as a number of divisions): \"))\n",
        "        MaximumPulse     = int(input(\"Maximum pulse on a vehicule (as a number of divisions):    \"))\n",
        "    else:\n",
        "        Number_Vehicules =  7\n",
        "        VehiculesSecurityDistance = 1\n",
        "        CoordinateMin    = -100\n",
        "        CoordinateMax    =  100\n",
        "        Number_Divisions =  1000\n",
        "        MaximumShift     =  3\n",
        "        MaximumPulse     =  2\n",
        "    if CoordinateMin > CoordinateMax:     # It is an error, then should revert the values\n",
        "        c = CoordinateMax\n",
        "        CoordinateMax = CoordinateMin\n",
        "        CoordinateMin = c\n",
        "    PlaceSkip = (CoordinateMax-CoordinateMin)/(Number_Divisions+1)   # The last range begins one skip befor the maximum coordinate\n",
        "    PossiblePlace = torch.tensor(range(Number_Divisions), dtype=int)\n",
        "    # PossibleShift = torch.tensor(range(MaximumShift+1),dtype=int) - int(MaximumShift/2)\n",
        "    State = InitialState(Number_Vehicules=Number_Vehicules, PossiblePlace=PossiblePlace, MaximumShift=MaximumShift)\n",
        "    BasicAction = AllActions(MaxPulse=MaximumPulse)\n",
        "    \n",
        "def InitialState(Number_Vehicules, PossiblePlace, MaximumShift):\n",
        "    PMin, PMax = torch.min(PossiblePlace), torch.max(PossiblePlace)\n",
        "    P1, P2 = PMin.clone(), PMin.clone()\n",
        "    State = torch.zeros((Number_Vehicules,5),dtype=int)\n",
        "    for v in range(Number_Vehicules):\n",
        "        State[v,0], State[v,1], State[v,2], State[v,4] = 1, P1, P2, torch.randint(1,MaximumShift+1,(1,))\n",
        "        if P1 == PMax:\n",
        "            P1, P2 = PMin, P2+1\n",
        "        else:\n",
        "            P1 += 1\n",
        "    return State\n",
        "def AllActions(MaxPulse):\n",
        "    A = []\n",
        "    for a in range(-MaxPulse, MaxPulse + 1):\n",
        "        for b in range(-MaxPulse, MaxPulse + 1):\n",
        "            if math.sqrt(a**2 + b**2) <= MaxPulse:\n",
        "                A.append([a, b])\n",
        "    return torch.tensor(A, dtype=int)"
      ]
    },
    {
      "cell_type": "code",
      "execution_count": null,
      "metadata": {
        "id": "VkVMVmc1VEGA",
        "outputId": "a2908847-7ba7-4c1f-beb5-1ca4f84b453b"
      },
      "outputs": [
        {
          "name": "stdout",
          "output_type": "stream",
          "text": [
            "\n",
            "\n",
            "\n",
            "SIMULATING ATTACK BY DRONES SWAM\n",
            "\n",
            "\n"
          ]
        }
      ],
      "source": [
        "Initialize()\n"
      ]
    },
    {
      "cell_type": "code",
      "execution_count": null,
      "metadata": {
        "id": "uW0WsscaVEGC",
        "outputId": "7f31a5ed-23b9-4cda-84e3-6165a8c99ea1"
      },
      "outputs": [
        {
          "name": "stdout",
          "output_type": "stream",
          "text": [
            "tensor([[-1,  0],\n",
            "        [ 0, -1],\n",
            "        [ 0,  0],\n",
            "        [ 0,  1],\n",
            "        [ 1,  0]])\n"
          ]
        }
      ],
      "source": [
        "print(BasicAction)"
      ]
    },
    {
      "cell_type": "code",
      "execution_count": null,
      "metadata": {
        "id": "rOXJMDDQi_oS",
        "outputId": "4424696c-67c6-45ca-c881-16e7f63f35c9"
      },
      "outputs": [
        {
          "data": {
            "text/plain": [
              "tensor([[ 3, -1],\n",
              "        [ 6,  2]])"
            ]
          },
          "execution_count": 122,
          "metadata": {},
          "output_type": "execute_result"
        }
      ],
      "source": [
        "import math\n",
        "def Motion(State):\n",
        "    \"\"\" Simulate a motion related to a state: each vehicule is shift from its position in the state and according to the velocity expressed in the\n",
        "    state. NextState is returned. \"\"\"\n",
        "    def Clashed(State1, State2, Vehicule1, Vehicule2):\n",
        "        if State1[Vehicule1,0] == 0 or State1[Vehicule2,0] == 0 \\\n",
        "            or State2[Vehicule1,0] == 0 or State2[Vehicule2,0] == 0:\n",
        "            return False\n",
        "        V1P1 = torch.tensor([State1[Vehicule1,1], State1[Vehicule1,2]], dtype=int)\n",
        "        V1P2 = torch.tensor([State2[Vehicule1,1], State2[Vehicule1,2]], dtype=int)\n",
        "        V2P1 = torch.tensor([State1[Vehicule2,1], State1[Vehicule2,2]], dtype=int)\n",
        "        V2P2 = torch.tensor([State2[Vehicule2,1], State2[Vehicule2,2]], dtype=int)\n",
        "        vect1, vect2 = V2P1-V1P1, V2P2-V1P2\n",
        "        prog = vect1-vect2\n",
        "        a = torch.matmul(prog,torch.t(prog)).item()\n",
        "        b = 2 * (torch.matmul(vect1,torch.t(prog)).item())\n",
        "        c = torch.matmul(vect1,torch.t(vect1)).item()\n",
        "        if a == 0:\n",
        "            MinimumDistance = min(c,b+c)\n",
        "        else:\n",
        "            t0 = -b/2/a\n",
        "            if t0 < 0:\n",
        "                MinimumDistance = c\n",
        "            elif t0 > 1:\n",
        "                MinimumDistance = a+b+c\n",
        "            else:\n",
        "                MinimumDistance = a*t0**2 + b*t0 + c\n",
        "        if MinimumDistance*PlaceSkip < VehiculesSecurityDistance:\n",
        "            return True\n",
        "        else:\n",
        "            return False\n",
        "        \n",
        "    NextState = State.clone()\n",
        "    for v in range(Number_Vehicules):\n",
        "        if State[v,0] == 1:             # If the vehicule is still alive\n",
        "            NextState[v,1], NextState[v,2]  =  State[v,1]+State[v,3], State[v,2]+State[v,4]  # Get the next position\n",
        "            if not(NextState[v,1] in PossiblePlace) or not(NextState[v,2] in PossiblePlace): # If the motion takes the vehicule out of bounds ...\n",
        "                NextState[v,0] = 0                                                           # then it is detroyed ...\n",
        "    for v1 in range(Number_Vehicules-1):\n",
        "        for v2 in range(v1+1,Number_Vehicules):\n",
        "            if Clashed(State1=State, State2=NextState, Vehicule1=v1, Vehicule2=v2):\n",
        "                NextState[v1,0] = NextState[v2,0] = 0\n",
        "    for v in range(Number_Vehicules):\n",
        "        if NextState[v,0] == 0:\n",
        "            NextState[v,1] = NextState[v,2] = torch.min(PossiblePlace) - 1\n",
        "    return NextState\n",
        "\n",
        "def NewVehiculeVelocity(CurrentVelocityOfVehicule,ActionOnVehicule):\n",
        "    # Returns the next velocity of a single vehicule after some action on the vehicule\n",
        "    NextVelocity = CurrentVelocityOfVehicule+ActionOnVehicule\n",
        "    Norm = math.sqrt((NextVelocity[0]**2 + NextVelocity[1]**2).item())\n",
        "    if Norm > MaximumShift:\n",
        "        NextVelocity = (NextVelocity/MaximumShift).int()\n",
        "    return NextVelocity\n",
        "\n",
        "def NewVelocity(State, Action):\n",
        "    # Returns the updated state of velocities of vehicules after some action was performed\n",
        "    Velocity = State[:,(3,4)]\n",
        "    for v in range(Number_Vehicules):\n",
        "        Velocity[v] = NewVehiculeVelocity(CurrentVelocityOfVehicule=Velocity[v], ActionOnVehicule=Action[v])\n",
        "    return Velocity\n",
        "\n",
        "def DeterministicTransition(State,Action):\n",
        "    # Returns the updated state after some action was perfermed, regardless the possible detection by the target\n",
        "    return Motion(State=NewVelocity(State=State, Action=Action))\n",
        "\n",
        "import torch\n",
        "\n",
        "PossiblePlace = torch.tensor([1,3,2,5,-1],dtype=int)\n",
        "a = torch.tensor([[1,3,3,-1,2],[1,-1,6,2,1]],dtype=int)\n",
        "b = a[:,(2,3)]\n",
        "b"
      ]
    },
    {
      "cell_type": "code",
      "execution_count": null,
      "metadata": {
        "id": "k8siMGdoVEGE",
        "outputId": "2af97f22-acb7-4686-c1d4-6d2bd1898f62"
      },
      "outputs": [
        {
          "name": "stdout",
          "output_type": "stream",
          "text": [
            "tensor([0, 1], dtype=torch.int32)\n"
          ]
        }
      ],
      "source": [
        "print(NewVehiculeVelocity(CurrentVelocityOfVehicule=State[2,(3,4)],ActionOnVehicule=BasicAction[0]))"
      ]
    },
    {
      "cell_type": "code",
      "execution_count": null,
      "metadata": {
        "id": "NlF_cD-nVEGG",
        "outputId": "fce3f776-4930-402a-af33-7b1341bde9c9"
      },
      "outputs": [
        {
          "name": "stdout",
          "output_type": "stream",
          "text": [
            "Current state:\n",
            " tensor([[1, 0, 0, 0, 2],\n",
            "        [1, 1, 0, 0, 3],\n",
            "        [1, 2, 0, 0, 3],\n",
            "        [1, 3, 0, 0, 3],\n",
            "        [1, 4, 0, 0, 1],\n",
            "        [1, 5, 0, 0, 2],\n",
            "        [1, 6, 0, 0, 2]])\n",
            "Basic action:\n",
            " tensor([[-2,  0],\n",
            "        [-1, -1],\n",
            "        [-1,  0],\n",
            "        [-1,  1],\n",
            "        [ 0, -2],\n",
            "        [ 0, -1],\n",
            "        [ 0,  0],\n",
            "        [ 0,  1],\n",
            "        [ 0,  2],\n",
            "        [ 1, -1],\n",
            "        [ 1,  0],\n",
            "        [ 1,  1],\n",
            "        [ 2,  0]])\n"
          ]
        }
      ],
      "source": [
        "print(\"Current state:\\n\",State)\n",
        "print(\"Basic action:\\n\",BasicAction)"
      ]
    }
  ],
  "metadata": {
    "colab": {
      "provenance": [],
      "include_colab_link": true
    },
    "kernelspec": {
      "display_name": "Python 3 (ipykernel)",
      "language": "python",
      "name": "python3"
    },
    "language_info": {
      "codemirror_mode": {
        "name": "ipython",
        "version": 3
      },
      "file_extension": ".py",
      "mimetype": "text/x-python",
      "name": "python",
      "nbconvert_exporter": "python",
      "pygments_lexer": "ipython3",
      "version": "3.10.10"
    }
  },
  "nbformat": 4,
  "nbformat_minor": 0
}